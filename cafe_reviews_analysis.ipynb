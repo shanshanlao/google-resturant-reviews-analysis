{
 "cells": [
  {
   "cell_type": "code",
   "execution_count": 1,
   "metadata": {},
   "outputs": [
    {
     "name": "stderr",
     "output_type": "stream",
     "text": [
      "C:\\Users\\shans\\AppData\\Local\\Packages\\PythonSoftwareFoundation.Python.3.10_qbz5n2kfra8p0\\LocalCache\\local-packages\\Python310\\site-packages\\tqdm\\auto.py:22: TqdmWarning: IProgress not found. Please update jupyter and ipywidgets. See https://ipywidgets.readthedocs.io/en/stable/user_install.html\n",
      "  from .autonotebook import tqdm as notebook_tqdm\n",
      "[nltk_data] Downloading package vader_lexicon to\n",
      "[nltk_data]     C:\\Users\\shans\\AppData\\Roaming\\nltk_data...\n",
      "[nltk_data]   Package vader_lexicon is already up-to-date!\n",
      "[nltk_data] Downloading package stopwords to\n",
      "[nltk_data]     C:\\Users\\shans\\AppData\\Roaming\\nltk_data...\n",
      "[nltk_data]   Package stopwords is already up-to-date!\n"
     ]
    }
   ],
   "source": [
    "import pandas as pd\n",
    "import numpy as np\n",
    "\n",
    "import re\n",
    "import string\n",
    "import sys, spacy, logging\n",
    "from pprint import pprint\n",
    "\n",
    "import gensim\n",
    "from gensim.utils import simple_preprocess\n",
    "import gensim.corpora as corpora\n",
    "from gensim.models import CoherenceModel\n",
    "\n",
    "import nltk\n",
    "from nltk.corpus import stopwords\n",
    "from nltk.stem import WordNetLemmatizer\n",
    "from nltk import pos_tag\n",
    "from nltk.sentiment import SentimentIntensityAnalyzer\n",
    "nltk.download('vader_lexicon')\n",
    "nltk.download('stopwords')\n",
    "\n",
    "from tqdm.notebook import tqdm\n",
    "\n",
    "from wordcloud import WordCloud, STOPWORDS\n",
    "\n",
    "import matplotlib.pyplot as plt\n",
    "\n",
    "import warnings\n",
    "warnings.filterwarnings(\"ignore\",category=DeprecationWarning)\n",
    "warnings.filterwarnings(\"ignore\",category=UserWarning)"
   ]
  },
  {
   "attachments": {},
   "cell_type": "markdown",
   "metadata": {},
   "source": [
    "# Data Acquisition"
   ]
  },
  {
   "cell_type": "code",
   "execution_count": 2,
   "metadata": {},
   "outputs": [
    {
     "data": {
      "text/plain": [
       "(3262, 6)"
      ]
     },
     "execution_count": 2,
     "metadata": {},
     "output_type": "execute_result"
    }
   ],
   "source": [
    "reviews_df = pd.read_csv('cafes_reviews.csv')\n",
    "reviews_df.shape"
   ]
  },
  {
   "cell_type": "code",
   "execution_count": 3,
   "metadata": {},
   "outputs": [
    {
     "data": {
      "text/plain": [
       "(2066, 6)"
      ]
     },
     "execution_count": 3,
     "metadata": {},
     "output_type": "execute_result"
    }
   ],
   "source": [
    "reviews_df = reviews_df.dropna().reset_index()\n",
    "reviews_df = reviews_df.drop(columns='index')\n",
    "reviews_df.shape"
   ]
  },
  {
   "cell_type": "code",
   "execution_count": 4,
   "metadata": {},
   "outputs": [
    {
     "data": {
      "text/html": [
       "<div>\n",
       "<style scoped>\n",
       "    .dataframe tbody tr th:only-of-type {\n",
       "        vertical-align: middle;\n",
       "    }\n",
       "\n",
       "    .dataframe tbody tr th {\n",
       "        vertical-align: top;\n",
       "    }\n",
       "\n",
       "    .dataframe thead th {\n",
       "        text-align: right;\n",
       "    }\n",
       "</style>\n",
       "<table border=\"1\" class=\"dataframe\">\n",
       "  <thead>\n",
       "    <tr style=\"text-align: right;\">\n",
       "      <th></th>\n",
       "      <th>cafe</th>\n",
       "      <th>street</th>\n",
       "      <th>user</th>\n",
       "      <th>time</th>\n",
       "      <th>stars</th>\n",
       "      <th>reviews</th>\n",
       "    </tr>\n",
       "  </thead>\n",
       "  <tbody>\n",
       "    <tr>\n",
       "      <th>0</th>\n",
       "      <td>Bud's Coffee</td>\n",
       "      <td>Queen St E</td>\n",
       "      <td>Jeffrey Taylor</td>\n",
       "      <td>2 weeks ago</td>\n",
       "      <td>5 stars</td>\n",
       "      <td>Great coffee and fresh baked goods.\\nTalking w...</td>\n",
       "    </tr>\n",
       "    <tr>\n",
       "      <th>1</th>\n",
       "      <td>Bud's Coffee</td>\n",
       "      <td>Queen St E</td>\n",
       "      <td>Dasong Zou</td>\n",
       "      <td>2 weeks ago</td>\n",
       "      <td>5 stars</td>\n",
       "      <td>I had a great tea here. Very pleasant.</td>\n",
       "    </tr>\n",
       "    <tr>\n",
       "      <th>2</th>\n",
       "      <td>Bud's Coffee</td>\n",
       "      <td>Queen St E</td>\n",
       "      <td>t s</td>\n",
       "      <td>a month ago</td>\n",
       "      <td>5 stars</td>\n",
       "      <td>My Flat white was superb.  It’s a tiny spot wi...</td>\n",
       "    </tr>\n",
       "    <tr>\n",
       "      <th>3</th>\n",
       "      <td>Bud's Coffee</td>\n",
       "      <td>Queen St E</td>\n",
       "      <td>Francesca Arkley</td>\n",
       "      <td>2 months ago</td>\n",
       "      <td>5 stars</td>\n",
       "      <td>Best coffee and lemonade and chai lattes! Bud'...</td>\n",
       "    </tr>\n",
       "    <tr>\n",
       "      <th>4</th>\n",
       "      <td>Bud's Coffee</td>\n",
       "      <td>Queen St E</td>\n",
       "      <td>Sean Persad</td>\n",
       "      <td>3 months ago</td>\n",
       "      <td>5 stars</td>\n",
       "      <td>Like the sidewalk ordering window. The America...</td>\n",
       "    </tr>\n",
       "  </tbody>\n",
       "</table>\n",
       "</div>"
      ],
      "text/plain": [
       "           cafe      street              user          time      stars  \\\n",
       "0  Bud's Coffee  Queen St E    Jeffrey Taylor   2 weeks ago   5 stars    \n",
       "1  Bud's Coffee  Queen St E        Dasong Zou   2 weeks ago   5 stars    \n",
       "2  Bud's Coffee  Queen St E               t s   a month ago   5 stars    \n",
       "3  Bud's Coffee  Queen St E  Francesca Arkley  2 months ago   5 stars    \n",
       "4  Bud's Coffee  Queen St E       Sean Persad  3 months ago   5 stars    \n",
       "\n",
       "                                             reviews  \n",
       "0  Great coffee and fresh baked goods.\\nTalking w...  \n",
       "1             I had a great tea here. Very pleasant.  \n",
       "2  My Flat white was superb.  It’s a tiny spot wi...  \n",
       "3  Best coffee and lemonade and chai lattes! Bud'...  \n",
       "4  Like the sidewalk ordering window. The America...  "
      ]
     },
     "execution_count": 4,
     "metadata": {},
     "output_type": "execute_result"
    }
   ],
   "source": [
    "reviews_df.head()"
   ]
  },
  {
   "cell_type": "code",
   "execution_count": 5,
   "metadata": {},
   "outputs": [
    {
     "data": {
      "text/plain": [
       "cafe         12\n",
       "street        2\n",
       "user       1949\n",
       "time         34\n",
       "stars         5\n",
       "reviews    2048\n",
       "dtype: int64"
      ]
     },
     "execution_count": 5,
     "metadata": {},
     "output_type": "execute_result"
    }
   ],
   "source": [
    "reviews_df.nunique()"
   ]
  },
  {
   "attachments": {},
   "cell_type": "markdown",
   "metadata": {},
   "source": [
    "# Data Cleaning"
   ]
  },
  {
   "cell_type": "code",
   "execution_count": 6,
   "metadata": {},
   "outputs": [],
   "source": [
    "df = reviews_df.copy()"
   ]
  },
  {
   "attachments": {},
   "cell_type": "markdown",
   "metadata": {},
   "source": [
    "Convert stars to numerical values"
   ]
  },
  {
   "cell_type": "code",
   "execution_count": 7,
   "metadata": {},
   "outputs": [
    {
     "data": {
      "text/html": [
       "<div>\n",
       "<style scoped>\n",
       "    .dataframe tbody tr th:only-of-type {\n",
       "        vertical-align: middle;\n",
       "    }\n",
       "\n",
       "    .dataframe tbody tr th {\n",
       "        vertical-align: top;\n",
       "    }\n",
       "\n",
       "    .dataframe thead th {\n",
       "        text-align: right;\n",
       "    }\n",
       "</style>\n",
       "<table border=\"1\" class=\"dataframe\">\n",
       "  <thead>\n",
       "    <tr style=\"text-align: right;\">\n",
       "      <th></th>\n",
       "      <th>cafe</th>\n",
       "      <th>street</th>\n",
       "      <th>user</th>\n",
       "      <th>time</th>\n",
       "      <th>stars</th>\n",
       "      <th>reviews</th>\n",
       "    </tr>\n",
       "  </thead>\n",
       "  <tbody>\n",
       "    <tr>\n",
       "      <th>0</th>\n",
       "      <td>Bud's Coffee</td>\n",
       "      <td>Queen St E</td>\n",
       "      <td>Jeffrey Taylor</td>\n",
       "      <td>2 weeks ago</td>\n",
       "      <td>5</td>\n",
       "      <td>Great coffee and fresh baked goods.\\nTalking w...</td>\n",
       "    </tr>\n",
       "    <tr>\n",
       "      <th>1</th>\n",
       "      <td>Bud's Coffee</td>\n",
       "      <td>Queen St E</td>\n",
       "      <td>Dasong Zou</td>\n",
       "      <td>2 weeks ago</td>\n",
       "      <td>5</td>\n",
       "      <td>I had a great tea here. Very pleasant.</td>\n",
       "    </tr>\n",
       "    <tr>\n",
       "      <th>2</th>\n",
       "      <td>Bud's Coffee</td>\n",
       "      <td>Queen St E</td>\n",
       "      <td>t s</td>\n",
       "      <td>a month ago</td>\n",
       "      <td>5</td>\n",
       "      <td>My Flat white was superb.  It’s a tiny spot wi...</td>\n",
       "    </tr>\n",
       "    <tr>\n",
       "      <th>3</th>\n",
       "      <td>Bud's Coffee</td>\n",
       "      <td>Queen St E</td>\n",
       "      <td>Francesca Arkley</td>\n",
       "      <td>2 months ago</td>\n",
       "      <td>5</td>\n",
       "      <td>Best coffee and lemonade and chai lattes! Bud'...</td>\n",
       "    </tr>\n",
       "    <tr>\n",
       "      <th>4</th>\n",
       "      <td>Bud's Coffee</td>\n",
       "      <td>Queen St E</td>\n",
       "      <td>Sean Persad</td>\n",
       "      <td>3 months ago</td>\n",
       "      <td>5</td>\n",
       "      <td>Like the sidewalk ordering window. The America...</td>\n",
       "    </tr>\n",
       "  </tbody>\n",
       "</table>\n",
       "</div>"
      ],
      "text/plain": [
       "           cafe      street              user          time  stars  \\\n",
       "0  Bud's Coffee  Queen St E    Jeffrey Taylor   2 weeks ago      5   \n",
       "1  Bud's Coffee  Queen St E        Dasong Zou   2 weeks ago      5   \n",
       "2  Bud's Coffee  Queen St E               t s   a month ago      5   \n",
       "3  Bud's Coffee  Queen St E  Francesca Arkley  2 months ago      5   \n",
       "4  Bud's Coffee  Queen St E       Sean Persad  3 months ago      5   \n",
       "\n",
       "                                             reviews  \n",
       "0  Great coffee and fresh baked goods.\\nTalking w...  \n",
       "1             I had a great tea here. Very pleasant.  \n",
       "2  My Flat white was superb.  It’s a tiny spot wi...  \n",
       "3  Best coffee and lemonade and chai lattes! Bud'...  \n",
       "4  Like the sidewalk ordering window. The America...  "
      ]
     },
     "execution_count": 7,
     "metadata": {},
     "output_type": "execute_result"
    }
   ],
   "source": [
    "df['stars'] = [int(s.split(' ')[1]) for s in df['stars']]\n",
    "df.head()"
   ]
  },
  {
   "attachments": {},
   "cell_type": "markdown",
   "metadata": {},
   "source": [
    "Add sentiment label"
   ]
  },
  {
   "cell_type": "code",
   "execution_count": 8,
   "metadata": {},
   "outputs": [
    {
     "data": {
      "text/html": [
       "<div>\n",
       "<style scoped>\n",
       "    .dataframe tbody tr th:only-of-type {\n",
       "        vertical-align: middle;\n",
       "    }\n",
       "\n",
       "    .dataframe tbody tr th {\n",
       "        vertical-align: top;\n",
       "    }\n",
       "\n",
       "    .dataframe thead th {\n",
       "        text-align: right;\n",
       "    }\n",
       "</style>\n",
       "<table border=\"1\" class=\"dataframe\">\n",
       "  <thead>\n",
       "    <tr style=\"text-align: right;\">\n",
       "      <th></th>\n",
       "      <th>cafe</th>\n",
       "      <th>street</th>\n",
       "      <th>user</th>\n",
       "      <th>time</th>\n",
       "      <th>stars</th>\n",
       "      <th>reviews</th>\n",
       "      <th>sentiment</th>\n",
       "    </tr>\n",
       "  </thead>\n",
       "  <tbody>\n",
       "    <tr>\n",
       "      <th>121</th>\n",
       "      <td>Bud's Coffee</td>\n",
       "      <td>Queen St E</td>\n",
       "      <td>Milena Samra</td>\n",
       "      <td>4 years ago</td>\n",
       "      <td>2</td>\n",
       "      <td>Hey, if you're looking to pay almost $5 for an...</td>\n",
       "      <td>neg</td>\n",
       "    </tr>\n",
       "    <tr>\n",
       "      <th>212</th>\n",
       "      <td>Juice &amp; Java Cafe</td>\n",
       "      <td>Queen St E</td>\n",
       "      <td>Vivienne McCuaig</td>\n",
       "      <td>3 years ago</td>\n",
       "      <td>2</td>\n",
       "      <td>The location is great and the food and coffee ...</td>\n",
       "      <td>neg</td>\n",
       "    </tr>\n",
       "    <tr>\n",
       "      <th>220</th>\n",
       "      <td>Juice &amp; Java Cafe</td>\n",
       "      <td>Queen St E</td>\n",
       "      <td>Angela Arnold</td>\n",
       "      <td>3 years ago</td>\n",
       "      <td>2</td>\n",
       "      <td>Overpriced! Same food you can make at home wit...</td>\n",
       "      <td>neg</td>\n",
       "    </tr>\n",
       "    <tr>\n",
       "      <th>226</th>\n",
       "      <td>Juice &amp; Java Cafe</td>\n",
       "      <td>Queen St E</td>\n",
       "      <td>Van Nguyen</td>\n",
       "      <td>3 years ago</td>\n",
       "      <td>2</td>\n",
       "      <td>Long wait time and not as described.\\n\\nI orde...</td>\n",
       "      <td>neg</td>\n",
       "    </tr>\n",
       "    <tr>\n",
       "      <th>234</th>\n",
       "      <td>Juice &amp; Java Cafe</td>\n",
       "      <td>Queen St E</td>\n",
       "      <td>Lorraine Syratt</td>\n",
       "      <td>3 years ago</td>\n",
       "      <td>2</td>\n",
       "      <td>Two stars for effort.  Gave us the wrong order...</td>\n",
       "      <td>neg</td>\n",
       "    </tr>\n",
       "    <tr>\n",
       "      <th>...</th>\n",
       "      <td>...</td>\n",
       "      <td>...</td>\n",
       "      <td>...</td>\n",
       "      <td>...</td>\n",
       "      <td>...</td>\n",
       "      <td>...</td>\n",
       "      <td>...</td>\n",
       "    </tr>\n",
       "    <tr>\n",
       "      <th>1837</th>\n",
       "      <td>Coffee Island</td>\n",
       "      <td>Bay St</td>\n",
       "      <td>Joe Korkis</td>\n",
       "      <td>5 years ago</td>\n",
       "      <td>2</td>\n",
       "      <td>Too expensive</td>\n",
       "      <td>neg</td>\n",
       "    </tr>\n",
       "    <tr>\n",
       "      <th>1850</th>\n",
       "      <td>Coffee Island</td>\n",
       "      <td>Bay St</td>\n",
       "      <td>Cindy Basha</td>\n",
       "      <td>5 years ago</td>\n",
       "      <td>2</td>\n",
       "      <td>My big problem with this coffee shop is well.....</td>\n",
       "      <td>neg</td>\n",
       "    </tr>\n",
       "    <tr>\n",
       "      <th>1878</th>\n",
       "      <td>White Rabbit Caffe</td>\n",
       "      <td>Bay St</td>\n",
       "      <td>Ramya Gudipudi</td>\n",
       "      <td>7 months ago</td>\n",
       "      <td>2</td>\n",
       "      <td>Ordered oat latte but had weird after taste fo...</td>\n",
       "      <td>neg</td>\n",
       "    </tr>\n",
       "    <tr>\n",
       "      <th>1908</th>\n",
       "      <td>White Rabbit Caffe</td>\n",
       "      <td>Bay St</td>\n",
       "      <td>Timothy K</td>\n",
       "      <td>a year ago</td>\n",
       "      <td>2</td>\n",
       "      <td>The White Rabb was really missing \"it\" (see ph...</td>\n",
       "      <td>neg</td>\n",
       "    </tr>\n",
       "    <tr>\n",
       "      <th>1911</th>\n",
       "      <td>White Rabbit Caffe</td>\n",
       "      <td>Bay St</td>\n",
       "      <td>Max Y</td>\n",
       "      <td>a year ago</td>\n",
       "      <td>2</td>\n",
       "      <td>Been here for a couple of times. Lavender latt...</td>\n",
       "      <td>neg</td>\n",
       "    </tr>\n",
       "  </tbody>\n",
       "</table>\n",
       "<p>82 rows × 7 columns</p>\n",
       "</div>"
      ],
      "text/plain": [
       "                    cafe      street              user          time  stars  \\\n",
       "121         Bud's Coffee  Queen St E      Milena Samra   4 years ago      2   \n",
       "212    Juice & Java Cafe  Queen St E  Vivienne McCuaig   3 years ago      2   \n",
       "220    Juice & Java Cafe  Queen St E     Angela Arnold   3 years ago      2   \n",
       "226    Juice & Java Cafe  Queen St E        Van Nguyen   3 years ago      2   \n",
       "234    Juice & Java Cafe  Queen St E   Lorraine Syratt   3 years ago      2   \n",
       "...                  ...         ...               ...           ...    ...   \n",
       "1837       Coffee Island      Bay St        Joe Korkis   5 years ago      2   \n",
       "1850       Coffee Island      Bay St       Cindy Basha   5 years ago      2   \n",
       "1878  White Rabbit Caffe      Bay St    Ramya Gudipudi  7 months ago      2   \n",
       "1908  White Rabbit Caffe      Bay St         Timothy K    a year ago      2   \n",
       "1911  White Rabbit Caffe      Bay St             Max Y    a year ago      2   \n",
       "\n",
       "                                                reviews sentiment  \n",
       "121   Hey, if you're looking to pay almost $5 for an...       neg  \n",
       "212   The location is great and the food and coffee ...       neg  \n",
       "220   Overpriced! Same food you can make at home wit...       neg  \n",
       "226   Long wait time and not as described.\\n\\nI orde...       neg  \n",
       "234   Two stars for effort.  Gave us the wrong order...       neg  \n",
       "...                                                 ...       ...  \n",
       "1837                                      Too expensive       neg  \n",
       "1850  My big problem with this coffee shop is well.....       neg  \n",
       "1878  Ordered oat latte but had weird after taste fo...       neg  \n",
       "1908  The White Rabb was really missing \"it\" (see ph...       neg  \n",
       "1911  Been here for a couple of times. Lavender latt...       neg  \n",
       "\n",
       "[82 rows x 7 columns]"
      ]
     },
     "execution_count": 8,
     "metadata": {},
     "output_type": "execute_result"
    }
   ],
   "source": [
    "df['sentiment'] = [\"neg\" if s<3 else \"pos\" if s>3 else \"neu\" for s in df['stars']]\n",
    "\n",
    "#verify\n",
    "df[df['stars'] == 2]"
   ]
  },
  {
   "attachments": {},
   "cell_type": "markdown",
   "metadata": {},
   "source": [
    "Check if the reviews are English"
   ]
  },
  {
   "cell_type": "code",
   "execution_count": 9,
   "metadata": {},
   "outputs": [
    {
     "data": {
      "text/html": [
       "<div>\n",
       "<style scoped>\n",
       "    .dataframe tbody tr th:only-of-type {\n",
       "        vertical-align: middle;\n",
       "    }\n",
       "\n",
       "    .dataframe tbody tr th {\n",
       "        vertical-align: top;\n",
       "    }\n",
       "\n",
       "    .dataframe thead th {\n",
       "        text-align: right;\n",
       "    }\n",
       "</style>\n",
       "<table border=\"1\" class=\"dataframe\">\n",
       "  <thead>\n",
       "    <tr style=\"text-align: right;\">\n",
       "      <th></th>\n",
       "      <th>cafe</th>\n",
       "      <th>street</th>\n",
       "      <th>user</th>\n",
       "      <th>time</th>\n",
       "      <th>stars</th>\n",
       "      <th>reviews</th>\n",
       "      <th>sentiment</th>\n",
       "      <th>language</th>\n",
       "    </tr>\n",
       "  </thead>\n",
       "  <tbody>\n",
       "    <tr>\n",
       "      <th>0</th>\n",
       "      <td>Bud's Coffee</td>\n",
       "      <td>Queen St E</td>\n",
       "      <td>Jeffrey Taylor</td>\n",
       "      <td>2 weeks ago</td>\n",
       "      <td>5</td>\n",
       "      <td>Great coffee and fresh baked goods.\\nTalking w...</td>\n",
       "      <td>pos</td>\n",
       "      <td>en</td>\n",
       "    </tr>\n",
       "    <tr>\n",
       "      <th>1</th>\n",
       "      <td>Bud's Coffee</td>\n",
       "      <td>Queen St E</td>\n",
       "      <td>Dasong Zou</td>\n",
       "      <td>2 weeks ago</td>\n",
       "      <td>5</td>\n",
       "      <td>I had a great tea here. Very pleasant.</td>\n",
       "      <td>pos</td>\n",
       "      <td>en</td>\n",
       "    </tr>\n",
       "    <tr>\n",
       "      <th>2</th>\n",
       "      <td>Bud's Coffee</td>\n",
       "      <td>Queen St E</td>\n",
       "      <td>t s</td>\n",
       "      <td>a month ago</td>\n",
       "      <td>5</td>\n",
       "      <td>My Flat white was superb.  It’s a tiny spot wi...</td>\n",
       "      <td>pos</td>\n",
       "      <td>en</td>\n",
       "    </tr>\n",
       "    <tr>\n",
       "      <th>3</th>\n",
       "      <td>Bud's Coffee</td>\n",
       "      <td>Queen St E</td>\n",
       "      <td>Francesca Arkley</td>\n",
       "      <td>2 months ago</td>\n",
       "      <td>5</td>\n",
       "      <td>Best coffee and lemonade and chai lattes! Bud'...</td>\n",
       "      <td>pos</td>\n",
       "      <td>en</td>\n",
       "    </tr>\n",
       "    <tr>\n",
       "      <th>4</th>\n",
       "      <td>Bud's Coffee</td>\n",
       "      <td>Queen St E</td>\n",
       "      <td>Sean Persad</td>\n",
       "      <td>3 months ago</td>\n",
       "      <td>5</td>\n",
       "      <td>Like the sidewalk ordering window. The America...</td>\n",
       "      <td>pos</td>\n",
       "      <td>en</td>\n",
       "    </tr>\n",
       "  </tbody>\n",
       "</table>\n",
       "</div>"
      ],
      "text/plain": [
       "           cafe      street              user          time  stars  \\\n",
       "0  Bud's Coffee  Queen St E    Jeffrey Taylor   2 weeks ago      5   \n",
       "1  Bud's Coffee  Queen St E        Dasong Zou   2 weeks ago      5   \n",
       "2  Bud's Coffee  Queen St E               t s   a month ago      5   \n",
       "3  Bud's Coffee  Queen St E  Francesca Arkley  2 months ago      5   \n",
       "4  Bud's Coffee  Queen St E       Sean Persad  3 months ago      5   \n",
       "\n",
       "                                             reviews sentiment language  \n",
       "0  Great coffee and fresh baked goods.\\nTalking w...       pos       en  \n",
       "1             I had a great tea here. Very pleasant.       pos       en  \n",
       "2  My Flat white was superb.  It’s a tiny spot wi...       pos       en  \n",
       "3  Best coffee and lemonade and chai lattes! Bud'...       pos       en  \n",
       "4  Like the sidewalk ordering window. The America...       pos       en  "
      ]
     },
     "execution_count": 9,
     "metadata": {},
     "output_type": "execute_result"
    }
   ],
   "source": [
    "from langdetect import detect_langs, LangDetectException\n",
    "\n",
    "languages = []\n",
    "for review in df['reviews']:\n",
    "    try:\n",
    "        lang_list = detect_langs(review)\n",
    "        lang_str = str(lang_list[0]).split(':')[0]\n",
    "    except LangDetectException:\n",
    "        lang_str = 'unknown'\n",
    "    languages.append(lang_str)\n",
    "\n",
    "df['language'] = languages\n",
    "df.head()"
   ]
  },
  {
   "cell_type": "code",
   "execution_count": null,
   "metadata": {},
   "outputs": [
    {
     "data": {
      "text/plain": [
       "en         1989\n",
       "it           12\n",
       "ro            9\n",
       "de            9\n",
       "fr            7\n",
       "ca            5\n",
       "da            5\n",
       "so            4\n",
       "es            3\n",
       "pt            3\n",
       "unknown       3\n",
       "af            2\n",
       "sk            2\n",
       "cy            2\n",
       "cs            2\n",
       "nl            2\n",
       "sv            2\n",
       "el            1\n",
       "et            1\n",
       "tl            1\n",
       "pl            1\n",
       "hr            1\n",
       "Name: language, dtype: int64"
      ]
     },
     "metadata": {},
     "output_type": "display_data"
    }
   ],
   "source": [
    "df['language'].value_counts()"
   ]
  },
  {
   "attachments": {},
   "cell_type": "markdown",
   "metadata": {},
   "source": [
    "*Basic Cleaning*\n",
    "1. lowercase\n",
    "2. punctuation removal\n",
    "3. white space removal\n",
    "4. speical characters removal\n",
    "5. tokenization\n",
    "\n",
    "*Text Filtering*\n",
    "1. stop words removal\n",
    "2. text normalization (lemmatization)\n",
    "3. text filtering: noun, adj, verb, adv (optional)\n",
    "4. filter non-english reviews"
   ]
  },
  {
   "cell_type": "code",
   "execution_count": 10,
   "metadata": {},
   "outputs": [
    {
     "name": "stdout",
     "output_type": "stream",
     "text": [
      "192\n",
      "518\n"
     ]
    }
   ],
   "source": [
    "stop_words = nltk.corpus.stopwords.words('english')\n",
    "stop_words.extend(['get', 'go','always','back','would','also','one','and',\n",
    "                    'go', 'get', 'do',  'also', 'may'])\n",
    "print(len(stop_words))\n",
    "\n",
    "# Extend stop words from spacy library\n",
    "sw_spacy = spacy.load('en_core_web_sm').Defaults.stop_words\n",
    "stop_words.extend(sw_spacy)\n",
    "print(len(stop_words))\n",
    "\n",
    "allowed_postags = ['NOUN','ADJ', 'VERB', 'ADV']"
   ]
  },
  {
   "cell_type": "code",
   "execution_count": 11,
   "metadata": {},
   "outputs": [],
   "source": [
    "def text_cleaning(sentence):\n",
    "    # Remove punctuation with white space (to avoid concatenation)\n",
    "    result = sentence.translate(str.maketrans(string.punctuation,\" \"*len(string.punctuation))) \n",
    "\n",
    "    # replace multiple spaces with simple space\n",
    "    result = re.sub(' +', ' ', result) \n",
    "\n",
    "    # remove special characters\n",
    "    #result = result.str.replace('[^A-Za-z0-9]+', ' ')\n",
    "\n",
    "    # Converts a document into a list of lowercase tokens\n",
    "    # ignoring tokens that are too long or too short\n",
    "    result = gensim.utils.simple_preprocess(str(result), deacc=True) \n",
    "    #yield(result)\n",
    "\n",
    "    # Remove stop words -----\n",
    "    text = [word for word in result if word not in stop_words]\n",
    "\n",
    "    # Initialize the output text list\n",
    "    text_out = []\n",
    "\n",
    "    # Load the small English model, disable the parser and NER components\n",
    "    nlp = spacy.load('en_core_web_sm', disable=['parser', 'ner'])\n",
    "    doc = nlp(\" \".join(text)) # join all strings together\n",
    "\n",
    "    # Text normalization: lemma_ returns the base form of the word\n",
    "    text_out.append([token.lemma_ for token in doc])\n",
    "    \n",
    "    # Text filtering: keep only words that have a POS tag in allowed_postags\n",
    "    # text_out.append([token.lemma_ for token in doc if token.pos_ in allowed_postags])\n",
    "    \n",
    "    return text_out[0]"
   ]
  },
  {
   "cell_type": "code",
   "execution_count": 12,
   "metadata": {},
   "outputs": [
    {
     "data": {
      "text/plain": [
       "0    [great, coffee, fresh, baked, good, talk, sara...\n",
       "1                               [great, tea, pleasant]\n",
       "2    [flat, white, superb, tiny, spot, limited, sea...\n",
       "3    [good, coffee, lemonade, chai, latte, bud, del...\n",
       "4    [like, sidewalk, ordering, window, americano, ...\n",
       "Name: tokenized, dtype: object"
      ]
     },
     "execution_count": 12,
     "metadata": {},
     "output_type": "execute_result"
    }
   ],
   "source": [
    "df['tokenized'] = [text_cleaning(w) for w in df['reviews']]\n",
    "df['tokenized'].head()"
   ]
  },
  {
   "cell_type": "code",
   "execution_count": 13,
   "metadata": {},
   "outputs": [
    {
     "data": {
      "text/plain": [
       "0    great coffee fresh baked good talk sarah day love\n",
       "1                                   great tea pleasant\n",
       "2    flat white superb tiny spot limited seat clean...\n",
       "3    good coffee lemonade chai latte bud delicious ...\n",
       "4         like sidewalk ordering window americano good\n",
       "Name: cleaned_text, dtype: object"
      ]
     },
     "execution_count": 13,
     "metadata": {},
     "output_type": "execute_result"
    }
   ],
   "source": [
    "df['cleaned_text'] =  [' '.join(map(str, s)) for s in df['tokenized']]\n",
    "df['cleaned_text'].head()"
   ]
  },
  {
   "cell_type": "code",
   "execution_count": 14,
   "metadata": {},
   "outputs": [
    {
     "data": {
      "text/html": [
       "<div>\n",
       "<style scoped>\n",
       "    .dataframe tbody tr th:only-of-type {\n",
       "        vertical-align: middle;\n",
       "    }\n",
       "\n",
       "    .dataframe tbody tr th {\n",
       "        vertical-align: top;\n",
       "    }\n",
       "\n",
       "    .dataframe thead th {\n",
       "        text-align: right;\n",
       "    }\n",
       "</style>\n",
       "<table border=\"1\" class=\"dataframe\">\n",
       "  <thead>\n",
       "    <tr style=\"text-align: right;\">\n",
       "      <th></th>\n",
       "      <th>cafe</th>\n",
       "      <th>street</th>\n",
       "      <th>user</th>\n",
       "      <th>time</th>\n",
       "      <th>stars</th>\n",
       "      <th>reviews</th>\n",
       "      <th>sentiment</th>\n",
       "      <th>language</th>\n",
       "      <th>tokenized</th>\n",
       "      <th>cleaned_text</th>\n",
       "    </tr>\n",
       "  </thead>\n",
       "  <tbody>\n",
       "    <tr>\n",
       "      <th>0</th>\n",
       "      <td>Bud's Coffee</td>\n",
       "      <td>Queen St E</td>\n",
       "      <td>Jeffrey Taylor</td>\n",
       "      <td>2 weeks ago</td>\n",
       "      <td>5</td>\n",
       "      <td>Great coffee and fresh baked goods.\\nTalking w...</td>\n",
       "      <td>pos</td>\n",
       "      <td>en</td>\n",
       "      <td>[great, coffee, fresh, baked, good, talk, sara...</td>\n",
       "      <td>great coffee fresh baked good talk sarah day love</td>\n",
       "    </tr>\n",
       "    <tr>\n",
       "      <th>1</th>\n",
       "      <td>Bud's Coffee</td>\n",
       "      <td>Queen St E</td>\n",
       "      <td>Dasong Zou</td>\n",
       "      <td>2 weeks ago</td>\n",
       "      <td>5</td>\n",
       "      <td>I had a great tea here. Very pleasant.</td>\n",
       "      <td>pos</td>\n",
       "      <td>en</td>\n",
       "      <td>[great, tea, pleasant]</td>\n",
       "      <td>great tea pleasant</td>\n",
       "    </tr>\n",
       "    <tr>\n",
       "      <th>2</th>\n",
       "      <td>Bud's Coffee</td>\n",
       "      <td>Queen St E</td>\n",
       "      <td>t s</td>\n",
       "      <td>a month ago</td>\n",
       "      <td>5</td>\n",
       "      <td>My Flat white was superb.  It’s a tiny spot wi...</td>\n",
       "      <td>pos</td>\n",
       "      <td>en</td>\n",
       "      <td>[flat, white, superb, tiny, spot, limited, sea...</td>\n",
       "      <td>flat white superb tiny spot limited seat clean...</td>\n",
       "    </tr>\n",
       "    <tr>\n",
       "      <th>3</th>\n",
       "      <td>Bud's Coffee</td>\n",
       "      <td>Queen St E</td>\n",
       "      <td>Francesca Arkley</td>\n",
       "      <td>2 months ago</td>\n",
       "      <td>5</td>\n",
       "      <td>Best coffee and lemonade and chai lattes! Bud'...</td>\n",
       "      <td>pos</td>\n",
       "      <td>en</td>\n",
       "      <td>[good, coffee, lemonade, chai, latte, bud, del...</td>\n",
       "      <td>good coffee lemonade chai latte bud delicious ...</td>\n",
       "    </tr>\n",
       "    <tr>\n",
       "      <th>4</th>\n",
       "      <td>Bud's Coffee</td>\n",
       "      <td>Queen St E</td>\n",
       "      <td>Sean Persad</td>\n",
       "      <td>3 months ago</td>\n",
       "      <td>5</td>\n",
       "      <td>Like the sidewalk ordering window. The America...</td>\n",
       "      <td>pos</td>\n",
       "      <td>en</td>\n",
       "      <td>[like, sidewalk, ordering, window, americano, ...</td>\n",
       "      <td>like sidewalk ordering window americano good</td>\n",
       "    </tr>\n",
       "  </tbody>\n",
       "</table>\n",
       "</div>"
      ],
      "text/plain": [
       "           cafe      street              user          time  stars  \\\n",
       "0  Bud's Coffee  Queen St E    Jeffrey Taylor   2 weeks ago      5   \n",
       "1  Bud's Coffee  Queen St E        Dasong Zou   2 weeks ago      5   \n",
       "2  Bud's Coffee  Queen St E               t s   a month ago      5   \n",
       "3  Bud's Coffee  Queen St E  Francesca Arkley  2 months ago      5   \n",
       "4  Bud's Coffee  Queen St E       Sean Persad  3 months ago      5   \n",
       "\n",
       "                                             reviews sentiment language  \\\n",
       "0  Great coffee and fresh baked goods.\\nTalking w...       pos       en   \n",
       "1             I had a great tea here. Very pleasant.       pos       en   \n",
       "2  My Flat white was superb.  It’s a tiny spot wi...       pos       en   \n",
       "3  Best coffee and lemonade and chai lattes! Bud'...       pos       en   \n",
       "4  Like the sidewalk ordering window. The America...       pos       en   \n",
       "\n",
       "                                           tokenized  \\\n",
       "0  [great, coffee, fresh, baked, good, talk, sara...   \n",
       "1                             [great, tea, pleasant]   \n",
       "2  [flat, white, superb, tiny, spot, limited, sea...   \n",
       "3  [good, coffee, lemonade, chai, latte, bud, del...   \n",
       "4  [like, sidewalk, ordering, window, americano, ...   \n",
       "\n",
       "                                        cleaned_text  \n",
       "0  great coffee fresh baked good talk sarah day love  \n",
       "1                                 great tea pleasant  \n",
       "2  flat white superb tiny spot limited seat clean...  \n",
       "3  good coffee lemonade chai latte bud delicious ...  \n",
       "4       like sidewalk ordering window americano good  "
      ]
     },
     "execution_count": 14,
     "metadata": {},
     "output_type": "execute_result"
    }
   ],
   "source": [
    "df.head()"
   ]
  },
  {
   "cell_type": "code",
   "execution_count": 15,
   "metadata": {},
   "outputs": [],
   "source": [
    "df.to_csv('cleaned_reviews.csv')"
   ]
  },
  {
   "attachments": {},
   "cell_type": "markdown",
   "metadata": {},
   "source": [
    "# Model Building"
   ]
  },
  {
   "attachments": {},
   "cell_type": "markdown",
   "metadata": {},
   "source": [
    "Identify positive and negative reviews"
   ]
  },
  {
   "cell_type": "code",
   "execution_count": null,
   "metadata": {},
   "outputs": [],
   "source": [
    "positive_reviews = df['cleaned_text'][df.sentiment=='pos'].tolist()\n",
    "negative_reviews = df['cleaned_text'][df.sentiment=='neg'].tolist()\n",
    "neutral_reviews = df['cleaned_text'][df.sentiment=='neu'].tolist()"
   ]
  },
  {
   "cell_type": "code",
   "execution_count": null,
   "metadata": {},
   "outputs": [],
   "source": [
    "positive_reviews[:5]"
   ]
  },
  {
   "cell_type": "code",
   "execution_count": null,
   "metadata": {},
   "outputs": [],
   "source": [
    "negative_reviews[:5]"
   ]
  },
  {
   "attachments": {},
   "cell_type": "markdown",
   "metadata": {},
   "source": [
    "Calculate words frequency of pos & neg reviews"
   ]
  },
  {
   "cell_type": "code",
   "execution_count": null,
   "metadata": {},
   "outputs": [],
   "source": [
    "def word_freq(reviews):\n",
    "    freqs = {}\n",
    "\n",
    "    ys = np.ones((len(reviews), 1))\n",
    "\n",
    "    yslist = np.squeeze(ys).tolist()\n",
    "    for y, review in zip(yslist, reviews):\n",
    "        for word in review:\n",
    "            pair = (word, y)\n",
    "            freqs[pair] = freqs.get(pair, 0) + 1\n",
    "\n",
    "    #sort by frequency count    \n",
    "    freqs = dict(sorted(freqs.items(), key=lambda x:x[1], reverse=True))\n",
    "\n",
    "    return freqs"
   ]
  },
  {
   "cell_type": "code",
   "execution_count": null,
   "metadata": {},
   "outputs": [],
   "source": [
    "reviews_pos = df['tokenized'][df.sentiment=='pos'].tolist()\n",
    "freqs_pos = word_freq(reviews_pos)\n",
    "\n",
    "freqs_pos"
   ]
  },
  {
   "cell_type": "code",
   "execution_count": null,
   "metadata": {},
   "outputs": [],
   "source": [
    "reviews_neg = df['tokenized'][df.sentiment=='neg'].tolist()\n",
    "freqs_neg = word_freq(reviews_neg)\n",
    "freqs_neg"
   ]
  },
  {
   "attachments": {},
   "cell_type": "markdown",
   "metadata": {},
   "source": [
    "Visualize using wordcloud"
   ]
  },
  {
   "cell_type": "code",
   "execution_count": null,
   "metadata": {},
   "outputs": [],
   "source": [
    "# Import WordCloud and STOPWORDS\n",
    "from wordcloud import WordCloud\n",
    "from wordcloud import STOPWORDS\n",
    "\n",
    "def get_wordCloud(text):\n",
    "\n",
    "    # Create stopword list\n",
    "    stopword_list = set(STOPWORDS) \n",
    "\n",
    "    # Create WordCloud \n",
    "    word_cloud = WordCloud(width = 550, height = 550, \n",
    "                           background_color ='white', \n",
    "                           stopwords = stopword_list, \n",
    "                           min_font_size = 12).generate(text) \n",
    "\n",
    "    return word_cloud"
   ]
  },
  {
   "cell_type": "code",
   "execution_count": null,
   "metadata": {},
   "outputs": [],
   "source": [
    "# Create a figure and subplots for each word cloud\n",
    "fig, axes = plt.subplots(2,2, figsize=(10,10))\n",
    "fig.suptitle('Reviews on Bay St. vs. Queen St. E', fontsize=20)\n",
    "\n",
    "# Create and plot a word cloud for each text\n",
    "wc_queen_pos = get_wordCloud(''.join(df.cleaned_text[(df.street =='Queen St E') & (df.sentiment == 'pos')]))\n",
    "wc_queen_neg = get_wordCloud(''.join(df.cleaned_text[(df.street =='Queen St E') & (df.sentiment == 'neg')]))\n",
    "wc_bay_pos = get_wordCloud(''.join(df.cleaned_text[(df.street =='Bay St') & (df.sentiment == 'pos')]))\n",
    "wc_bay_neg = get_wordCloud(''.join(df.cleaned_text[(df.street =='Bay St') & (df.sentiment == 'neg')]))\n",
    "\n",
    "title_size = 16\n",
    "axes[0][0].imshow(wc_queen_pos)\n",
    "axes[0][0].axis('off')\n",
    "axes[0][0].set_title('Positive Reviews on Queen St', fontsize=title_size)\n",
    "\n",
    "axes[0][1].imshow(wc_queen_neg)\n",
    "axes[0][1].axis('off')\n",
    "axes[0][1].set_title('Negative Reviews on Queen St', fontsize=title_size)\n",
    "\n",
    "axes[1][0].imshow(wc_bay_pos)\n",
    "axes[1][0].axis('off')\n",
    "axes[1][0].set_title('Positive Reviews on Bay St', fontsize=title_size)\n",
    "\n",
    "axes[1][1].imshow(wc_bay_neg)\n",
    "axes[1][1].axis('off')\n",
    "axes[1][1].set_title('Negative Reviews on Bay St', fontsize=title_size)\n",
    "\n",
    "# Show the plot\n",
    "plt.subplots_adjust(wspace=0, hspace=0)\n",
    "plt.axis('off')\n",
    "plt.margins(x=0, y=0)\n",
    "plt.tight_layout()\n",
    "plt.show()"
   ]
  },
  {
   "attachments": {},
   "cell_type": "markdown",
   "metadata": {},
   "source": [
    "Sigmoid Function\n",
    "- Gives values between -1 and 1 "
   ]
  },
  {
   "cell_type": "code",
   "execution_count": null,
   "metadata": {},
   "outputs": [],
   "source": [
    "def sigmoid(z): \n",
    "    # calculate the sigmoid of z\n",
    "    h = 1/(1 + np.exp(-z))\n",
    "    return h"
   ]
  },
  {
   "attachments": {},
   "cell_type": "markdown",
   "metadata": {},
   "source": [
    "Cost Function and Gradient Descent"
   ]
  },
  {
   "cell_type": "code",
   "execution_count": null,
   "metadata": {},
   "outputs": [],
   "source": [
    "def gradientDescent(x, y, theta, alpha, num_iters):\n",
    "    '''\n",
    "    Input:\n",
    "        x: matrix of features which is (m,n+1)\n",
    "        y: corresponding labels of the input matrix x, dimensions (m,1)\n",
    "        theta: weight vector of dimension (n+1,1)\n",
    "        alpha: learning rate\n",
    "        num_iters: number of iterations you want to train your model for\n",
    "    Output:\n",
    "        J: the final cost\n",
    "        theta: your final weight vector\n",
    "    '''\n",
    "    \n",
    "    m = len(x)\n",
    "  \n",
    "    for i in range(0, num_iters):\n",
    "        \n",
    "        # get z, the dot product of x and theta\n",
    "        z = np.dot(x,theta)\n",
    "        \n",
    "        # get the sigmoid of z\n",
    "        h = sigmoid(z)\n",
    "        \n",
    "        # calculate the cost function\n",
    "        J = (-1/m)*(np.dot(y.T,np.log(h)) + np.dot((1-y).T,np.log(1-h)))\n",
    "        #print(J)\n",
    "        \n",
    "        # update the weights theta\n",
    "        theta = theta - (alpha/m)*np.dot(x.T, h-y)\n",
    "        \n",
    "    J = float(J)\n",
    "    return J, theta"
   ]
  },
  {
   "attachments": {},
   "cell_type": "markdown",
   "metadata": {},
   "source": [
    "Extract features"
   ]
  },
  {
   "cell_type": "code",
   "execution_count": null,
   "metadata": {},
   "outputs": [],
   "source": [
    "def extract_features(review, freqs):\n",
    "    '''\n",
    "    Input: \n",
    "        tweet: a list of words for one review (processed)\n",
    "        freqs: a dictionary corresponding to the frequencies of each tuple (word, label)\n",
    "    Output: \n",
    "        x: a feature vector of dimension (1,3)\n",
    "    '''\n",
    "    # 3 elements in the form of a 1 x 3 vector\n",
    "    x = np.zeros((1, 3)) \n",
    "    \n",
    "    #bias term is set to 1\n",
    "    x[0,0] = 1 \n",
    "        \n",
    "    # loop through each word in the list of words -- df['tokenized]\n",
    "    for word in review:\n",
    "        \n",
    "        # increment the word count for the positive label 1\n",
    "        x[0,1] += freqs.get((word,1),0)\n",
    "        \n",
    "        # increment the word count for the negative label 0\n",
    "        x[0,2] += freqs.get((word,0),0)\n",
    "        \n",
    "    assert(x.shape == (1, 3))\n",
    "    return x"
   ]
  },
  {
   "attachments": {},
   "cell_type": "markdown",
   "metadata": {},
   "source": [
    "Train Test Split"
   ]
  },
  {
   "cell_type": "code",
   "execution_count": null,
   "metadata": {},
   "outputs": [],
   "source": []
  },
  {
   "cell_type": "code",
   "execution_count": null,
   "metadata": {},
   "outputs": [],
   "source": []
  },
  {
   "cell_type": "code",
   "execution_count": null,
   "metadata": {},
   "outputs": [],
   "source": []
  },
  {
   "cell_type": "code",
   "execution_count": null,
   "metadata": {},
   "outputs": [],
   "source": [
    "model = SentimentIntensityAnalyzer()\n",
    "model"
   ]
  },
  {
   "cell_type": "code",
   "execution_count": null,
   "metadata": {},
   "outputs": [],
   "source": [
    "from tqdm import tqdm\n",
    "\n",
    "res = {}\n",
    "for i, row in tqdm(df.iterrows(), total = len(df)):\n",
    "    text = row['reviews']\n",
    "    myid = row['index']\n",
    "    res[myid] = model.polarity_scores(text)\n",
    "\n",
    "# Keeping the results as Dataframe\n",
    "Vader_res = pd.DataFrame(res).T\n",
    "Vader_res"
   ]
  },
  {
   "cell_type": "code",
   "execution_count": null,
   "metadata": {},
   "outputs": [],
   "source": [
    "Vader_res = pd.merge(df, Vader_res, left_index=True, right_index=True) \n",
    "Vader_res"
   ]
  }
 ],
 "metadata": {
  "kernelspec": {
   "display_name": "Python 3",
   "language": "python",
   "name": "python3"
  },
  "language_info": {
   "codemirror_mode": {
    "name": "ipython",
    "version": 3
   },
   "file_extension": ".py",
   "mimetype": "text/x-python",
   "name": "python",
   "nbconvert_exporter": "python",
   "pygments_lexer": "ipython3",
   "version": "3.10.10"
  },
  "orig_nbformat": 4,
  "vscode": {
   "interpreter": {
    "hash": "eb8d3085d426e5e8dee3252ffbadecffc2a8c816985f9d79249a1de42c265c0a"
   }
  }
 },
 "nbformat": 4,
 "nbformat_minor": 2
}
