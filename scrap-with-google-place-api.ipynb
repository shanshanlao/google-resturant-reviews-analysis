{
 "cells": [
  {
   "cell_type": "code",
   "execution_count": null,
   "metadata": {},
   "outputs": [],
   "source": [
    "# To create an API request: https://maps.googleapis.com/maps/api/place/nearbysearch/json?location=-33.8670522,151.1957362&radius=500&types=food&name=harbour&key=YOUR_API_KEY\n",
    "api_key= 'your_API_key_here'"
   ]
  },
  {
   "cell_type": "markdown",
   "metadata": {},
   "source": [
    "# Retrieve Place ID with Place Search"
   ]
  },
  {
   "cell_type": "code",
   "execution_count": null,
   "metadata": {},
   "outputs": [
    {
     "name": "stdout",
     "output_type": "stream",
     "text": [
      "{\n",
      "   \"candidates\" : [\n",
      "      {\n",
      "         \"place_id\" : \"ChIJ8TnwVIUbyUwRxAoPIirnzXo\"\n",
      "      }\n",
      "   ],\n",
      "   \"status\" : \"OK\"\n",
      "}\n",
      "\n"
     ]
    }
   ],
   "source": [
    "import requests\n",
    "\n",
    "resturant_name = 'India Rosa'\n",
    "city_name = 'Montreal'\n",
    "formatted_name = resturant_name.replace(\" \",'%20') + '%20' + city_name\n",
    "\n",
    "url = \"https://maps.googleapis.com/maps/api/place/findplacefromtext/json?input=\"+ formatted_name + \"&inputtype=textquery&key=\" + api_key\n",
    "\n",
    "payload={}\n",
    "headers = {}\n",
    "\n",
    "response = requests.request(\"GET\", url, headers=headers, data=payload)\n",
    "\n",
    "print(response.text)"
   ]
  },
  {
   "cell_type": "code",
   "execution_count": null,
   "metadata": {},
   "outputs": [],
   "source": [
    "import json\n",
    "\n",
    "# Convert String to JSON\n",
    "response_dict = json.loads(response.text)\n",
    "\n",
    "place_id = response_dict['candidates'][0]['place_id']\n"
   ]
  },
  {
   "cell_type": "markdown",
   "metadata": {},
   "source": [
    "# Place Details"
   ]
  },
  {
   "cell_type": "code",
   "execution_count": null,
   "metadata": {},
   "outputs": [
    {
     "name": "stdout",
     "output_type": "stream",
     "text": [
      "{\n",
      "   \"html_attributions\" : [],\n",
      "   \"result\" : {\n",
      "      \"name\" : \"India Rosa\",\n",
      "      \"rating\" : 4.5,\n",
      "      \"reviews\" : [\n",
      "         {\n",
      "            \"author_name\" : \"Diane Duhaime\",\n",
      "            \"author_url\" : \"https://www.google.com/maps/contrib/100309416797369157007/reviews\",\n",
      "            \"language\" : \"fr\",\n",
      "            \"original_language\" : \"fr\",\n",
      "            \"profile_photo_url\" : \"https://lh3.googleusercontent.com/a/AEdFTp5Uh1y6AkX6nOTiSGxn9OH2xjksqOiAlJelC0yZ=s128-c0x00000000-cc-rp-mo\",\n",
      "            \"rating\" : 1,\n",
      "            \"relative_time_description\" : \"in the last week\",\n",
      "            \"text\" : \"J’avais très hâte de connaître ce nouvel emplacement à Griffintown surtout après avoir visité celui de la rue Mont-Royal.  Malheureusement, ce fut la déception dès notre entrée, accueillis par la musique techno au volume élevé. Les entrées et les plats principaux sont très ordinaires et les vins dont les moins chers débutent à +/- $60.00.  Le service était lent, très lent et désorganisé.  Tape à l’œil garantie, manque d’authenticité de la culture hindoue, expérience à ne pas renouveler.\",\n",
      "            \"time\" : 1675345635,\n",
      "            \"translated\" : false\n",
      "         },\n",
      "         {\n",
      "            \"author_name\" : \"Samir Ahmed Yahia\",\n",
      "            \"author_url\" : \"https://www.google.com/maps/contrib/112912350067151713634/reviews\",\n",
      "            \"profile_photo_url\" : \"https://lh3.googleusercontent.com/a-/AD5-WCnEmIGkoym6A0iLztvKQqXLZIP5DvolxxtyNMvyFg=s128-c0x00000000-cc-rp-mo-ba3\",\n",
      "            \"rating\" : 5,\n",
      "            \"relative_time_description\" : \"in the last week\",\n",
      "            \"text\" : \"\",\n",
      "            \"time\" : 1675303720,\n",
      "            \"translated\" : false\n",
      "         },\n",
      "         {\n",
      "            \"author_name\" : \"Victor Harvey\",\n",
      "            \"author_url\" : \"https://www.google.com/maps/contrib/101153035835221147384/reviews\",\n",
      "            \"profile_photo_url\" : \"https://lh3.googleusercontent.com/a/AEdFTp4f1k7d304EGJQvdmE1fgJpnHA92Ry-_B1qgKNi=s128-c0x00000000-cc-rp-mo\",\n",
      "            \"rating\" : 4,\n",
      "            \"relative_time_description\" : \"in the last week\",\n",
      "            \"text\" : \"\",\n",
      "            \"time\" : 1675281724,\n",
      "            \"translated\" : false\n",
      "         },\n",
      "         {\n",
      "            \"author_name\" : \"Katy Tavoosi\",\n",
      "            \"author_url\" : \"https://www.google.com/maps/contrib/116941096574999763665/reviews\",\n",
      "            \"language\" : \"en\",\n",
      "            \"original_language\" : \"en\",\n",
      "            \"profile_photo_url\" : \"https://lh3.googleusercontent.com/a-/AD5-WCmps-8Q255-7ft21zcxI6gXLjTk50CWmucYcYQL=s128-c0x00000000-cc-rp-mo\",\n",
      "            \"rating\" : 4,\n",
      "            \"relative_time_description\" : \"in the last week\",\n",
      "            \"text\" : \"A lil pricy for a brunch but all in all a nice experience\",\n",
      "            \"time\" : 1675164509,\n",
      "            \"translated\" : false\n",
      "         },\n",
      "         {\n",
      "            \"author_name\" : \"Claudine Mueller\",\n",
      "            \"author_url\" : \"https://www.google.com/maps/contrib/101528311191101352967/reviews\",\n",
      "            \"language\" : \"en\",\n",
      "            \"original_language\" : \"en\",\n",
      "            \"profile_photo_url\" : \"https://lh3.googleusercontent.com/a/AEdFTp5_Z0h4bGiAIehthAtSZz_v9jTgcCORPgIV59HT=s128-c0x00000000-cc-rp-mo\",\n",
      "            \"rating\" : 5,\n",
      "            \"relative_time_description\" : \"in the last week\",\n",
      "            \"text\" : \"The best Indian food!! They also have small plates like tapas style to try many different dishes! Fabulous selection of great cocktails and the atmosphere is fantastic!! A must go to for a great evening!!!\",\n",
      "            \"time\" : 1675101500,\n",
      "            \"translated\" : false\n",
      "         }\n",
      "      ],\n",
      "      \"user_ratings_total\" : 1870\n",
      "   },\n",
      "   \"status\" : \"OK\"\n",
      "}\n",
      "\n"
     ]
    }
   ],
   "source": [
    "import requests\n",
    "\n",
    "# Specify the returned details\n",
    "fields = ['name', 'rating','reviews','user_ratings_total']\n",
    "fields = \"%2C\".join(fields) #name%2Crating%2Creviews%2Cuser_ratings_total\n",
    "\n",
    "# Specify the sorting methods when returning revieiws\n",
    "reviews_sort = 'newest' # sort by newest or most_relevant(default)\n",
    "\n",
    "# Specify the language\n",
    "lang = \"en\"\n",
    "\n",
    "url = \"https://maps.googleapis.com/maps/api/place/details/json?\" + \"place_id=\" + place_id + \"&fields=\" + fields + \"&reviews_sort=\"+ reviews_sort + \"&language=\" + lang + \"&key=\" + api_key\n",
    "\n",
    "payload={}\n",
    "headers = {}\n",
    "\n",
    "response = requests.request(\"GET\", url, headers=headers, data=payload)\n",
    "\n",
    "print(response.text)"
   ]
  }
 ],
 "metadata": {
  "kernelspec": {
   "display_name": "Python 3",
   "language": "python",
   "name": "python3"
  },
  "language_info": {
   "name": "python",
   "version": "3.10.8"
  },
  "orig_nbformat": 4,
  "vscode": {
   "interpreter": {
    "hash": "eb8d3085d426e5e8dee3252ffbadecffc2a8c816985f9d79249a1de42c265c0a"
   }
  }
 },
 "nbformat": 4,
 "nbformat_minor": 2
}
