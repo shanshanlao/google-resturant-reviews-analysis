{
 "cells": [
  {
   "attachments": {},
   "cell_type": "markdown",
   "metadata": {},
   "source": [
    "Script Purpose: Scrape resturant reviews from Google Map\n",
    "\n",
    "Coding Reference: https://www.linkedin.com/pulse/webscrape-google-map-reviews-using-selenium-python-choy-siew-wearn/?trk=pulse-article_more-articles_related-content-card"
   ]
  },
  {
   "cell_type": "code",
   "execution_count": 1,
   "metadata": {},
   "outputs": [],
   "source": [
    "import pandas as pd\n",
    "import time\n",
    "\n",
    "import selenium\n",
    "from selenium import webdriver\n",
    "from webdriver_manager.chrome import ChromeDriverManager\n",
    "\n",
    "from bs4 import BeautifulSoup"
   ]
  },
  {
   "cell_type": "code",
   "execution_count": 2,
   "metadata": {},
   "outputs": [],
   "source": [
    "# Initialize WebDriver\n",
    "driver = webdriver.Chrome()\n",
    "#driver = webdriver.Chrome(ChromeDriverManager().install())"
   ]
  },
  {
   "attachments": {},
   "cell_type": "markdown",
   "metadata": {},
   "source": [
    "# Extract Reviews"
   ]
  },
  {
   "cell_type": "code",
   "execution_count": 3,
   "metadata": {},
   "outputs": [],
   "source": [
    "# Specify the name here\n",
    "resturant_name = 'pai'\n",
    "\n",
    "# Replace the URL here\n",
    "url = 'https://www.google.com/maps/place/Yin+Ji+Chang+Fen+%E9%8A%80%E8%A8%98%E8%85%B8%E7%B2%89+(Downtown)/@43.6556323,-79.4007838,18z/data=!4m15!1m7!3m6!1s0x882b352f899ec8dd:0xc49c4326e9ddc453!2zVGVubWlsZXMgQi5CLlEg5pil6aOO5Y2B6YeMIChEb3dudG93buW6l--8iQ!8m2!3d43.6555915!4d-79.3988178!16s%2Fg%2F11h_x8qp0m!3m6!1s0x882b35fc9d8bba53:0xdb2bbff8043dc64e!8m2!3d43.6558099!4d-79.3988996!9m1!1b1'\n",
    "\n",
    "driver.get(url)\n",
    "#time.sleep(5)"
   ]
  },
  {
   "cell_type": "code",
   "execution_count": 4,
   "metadata": {},
   "outputs": [
    {
     "data": {
      "text/plain": [
       "266"
      ]
     },
     "execution_count": 4,
     "metadata": {},
     "output_type": "execute_result"
    }
   ],
   "source": [
    "# Get the total number of reviews\n",
    "num_reviews = driver.find_element(\"xpath\",\"//*[@id='QA0Szd']/div/div/div[1]/div[2]/div/div[1]/div/div/div[2]/div[2]/div/div[2]/div[2]\").text\n",
    "num_reviews = int(num_reviews.split(' ')[0].replace(\",\",''))\n",
    "num_reviews"
   ]
  },
  {
   "cell_type": "code",
   "execution_count": 5,
   "metadata": {},
   "outputs": [],
   "source": [
    "# Click Sort button and select \"Newest\"\n",
    "# Page Source - Inspect - Locate the button and copy XPATH\n",
    "\n",
    "driver.find_element(\"xpath\",'//*[@id=\"QA0Szd\"]/div/div/div[1]/div[2]/div/div[1]/div/div/div[2]/div[7]/div[2]/button').click()\n",
    "time.sleep(1)\n",
    "\n",
    "driver.find_element(\"xpath\",\"//*[@id='action-menu']/div[2]\").click()\n",
    "time.sleep(5)\n"
   ]
  },
  {
   "cell_type": "code",
   "execution_count": 6,
   "metadata": {},
   "outputs": [],
   "source": [
    "SCROLL_PAUSE_TIME = 5\n",
    "\n",
    "number = 0\n",
    "\n",
    "while True:\n",
    "    number = number+1\n",
    "\n",
    "    # Scroll down to bottom    \n",
    "    ele = driver.find_element('xpath','//*[@id=\"QA0Szd\"]/div/div/div[1]/div[2]/div/div[1]/div/div/div[2]')\n",
    "    driver.execute_script('arguments[0].scrollBy(0, 5000);', ele)\n",
    "\n",
    "    # Wait to load page\n",
    "    time.sleep(SCROLL_PAUSE_TIME)\n",
    "\n",
    "    # Calculate new scroll height and compare with last scroll height\n",
    "    #ele = driver.find_element('xpath','//*[@id=\"QA0Szd\"]/div/div/div[1]/div[2]/div/div[1]/div/div/div[2]')\n",
    "    #new_height = driver.execute_script(\"return arguments[0].scrollHeight\", ele)\n",
    "\n",
    "    if number >= num_reviews/10:\n",
    "        break\n"
   ]
  },
  {
   "cell_type": "code",
   "execution_count": 7,
   "metadata": {},
   "outputs": [],
   "source": [
    "item = driver.find_elements(\"xpath\",'//*[@id=\"QA0Szd\"]/div/div/div[1]/div[2]/div/div[1]/div/div/div[2]/div[9]')\n",
    "\n",
    "time.sleep(3)"
   ]
  },
  {
   "cell_type": "code",
   "execution_count": 9,
   "metadata": {},
   "outputs": [],
   "source": [
    "from selenium.webdriver.common.by import By\n",
    "\n",
    "name_list = []\n",
    "time_list = []\n",
    "stars_list = []\n",
    "reviews_list = []\n",
    "\n",
    "for i in item:\n",
    "\n",
    "    button = i.find_elements(By.TAG_NAME,'button')\n",
    "    for m in button:\n",
    "        if m.text == \"More\":\n",
    "            m.click()\n",
    "    time.sleep(5)\n",
    "\n",
    "    name = i.find_elements(By.CLASS_NAME,\"d4r55\")\n",
    "    time = i.find_elements(By.CLASS_NAME,\"kvMYJc\")\n",
    "    stars = i.find_elements(By.CLASS_NAME,\"wiI7pd\")\n",
    "    reviews = i.find_elements(By.CLASS_NAME,\"rsqaWe\")\n",
    "\n",
    "    for j,k,l,p in zip(name,time,stars,reviews):\n",
    "        name_list.append(j.text)\n",
    "        time_list.append(p.text)\n",
    "        stars_list.append(k.get_attribute(\"aria-label\"))\n",
    "        reviews_list.append(l.text)"
   ]
  },
  {
   "cell_type": "code",
   "execution_count": 10,
   "metadata": {},
   "outputs": [
    {
     "name": "stdout",
     "output_type": "stream",
     "text": [
      "                 name         time      stars  \\\n",
      "0        Tashi Jurmey   2 days ago   4 stars    \n",
      "1          Isaiah Tan   6 days ago   4 stars    \n",
      "2           Sue Kwong   6 days ago   5 stars    \n",
      "3      Irene Kittycat   a week ago   4 stars    \n",
      "4              Krn JE   a week ago   4 stars    \n",
      "..                ...          ...        ...   \n",
      "261           Emily K  2 years ago   5 stars    \n",
      "262          Bill Liu  2 years ago   5 stars    \n",
      "263  Josephine Nguyen  2 years ago   4 stars    \n",
      "264       harley yang  2 years ago   4 stars    \n",
      "265           Mandy K  2 years ago   5 stars    \n",
      "\n",
      "                                                review  \n",
      "0                                                       \n",
      "1    Cheap and tasty eats. Classic congee breakfast...  \n",
      "2                                                       \n",
      "3    Stumbled across this little gem when we were i...  \n",
      "4    Great quality ingredients, reasonable prices a...  \n",
      "..                                                 ...  \n",
      "261                                                     \n",
      "262                                                     \n",
      "263  Came here for takeout after discovering they o...  \n",
      "264                                                     \n",
      "265  I love Chang fen and they have so many differe...  \n",
      "\n",
      "[266 rows x 4 columns]\n"
     ]
    }
   ],
   "source": [
    "review = pd.DataFrame(\n",
    "    {'name': name_list,\n",
    "     'time': time_list,\n",
    "     'stars': stars_list,\n",
    "     'review': reviews_list,})\n",
    "\n",
    "review.to_csv('google_review_{}.csv'.format(resturant_name),index=False)\n",
    "print(review)"
   ]
  }
 ],
 "metadata": {
  "kernelspec": {
   "display_name": "Python 3",
   "language": "python",
   "name": "python3"
  },
  "language_info": {
   "codemirror_mode": {
    "name": "ipython",
    "version": 3
   },
   "file_extension": ".py",
   "mimetype": "text/x-python",
   "name": "python",
   "nbconvert_exporter": "python",
   "pygments_lexer": "ipython3",
   "version": "3.10.10"
  },
  "orig_nbformat": 4,
  "vscode": {
   "interpreter": {
    "hash": "eb8d3085d426e5e8dee3252ffbadecffc2a8c816985f9d79249a1de42c265c0a"
   }
  }
 },
 "nbformat": 4,
 "nbformat_minor": 2
}
