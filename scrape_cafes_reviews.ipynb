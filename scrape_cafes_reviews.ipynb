{
 "cells": [
  {
   "attachments": {},
   "cell_type": "markdown",
   "metadata": {},
   "source": [
    "Script Purpose: Scrape cafes' reviews from Google Map\n",
    "\n",
    "Coding Reference: https://www.linkedin.com/pulse/webscrape-google-map-reviews-using-selenium-python-choy-siew-wearn/?trk=pulse-article_more-articles_related-content-card\n",
    "\n",
    "List of cafes:\n",
    "- Close to the beaches (Queen St E.)\n",
    "    - Bud's Coffee\n",
    "    - Juice & Java Cafe\n",
    "    - The Beacher Cafe\n",
    "    - Simple Coffee\n",
    "    - Remarkable Beans\n",
    "    - The Haven Low-Carb Cafe\n",
    "- Financial District (Bay St.)\n",
    "    - Dineen Coffee Co.\n",
    "    - Mos Mos Coffee\n",
    "    - NEO COFFEE BAR\n",
    "    - Coffee Island\n",
    "    - White Rabbit Caffe\n",
    "    - Dispatch Coffee\n"
   ]
  },
  {
   "cell_type": "code",
   "execution_count": 3,
   "metadata": {},
   "outputs": [],
   "source": [
    "import pandas as pd\n",
    "import time\n",
    "\n",
    "import selenium\n",
    "from selenium import webdriver\n",
    "from selenium.webdriver.common.by import By\n",
    "\n",
    "from webdriver_manager.chrome import ChromeDriverManager\n",
    "\n",
    "from bs4 import BeautifulSoup"
   ]
  },
  {
   "cell_type": "code",
   "execution_count": 2,
   "metadata": {},
   "outputs": [],
   "source": [
    "# Create the function for getting reviews through url\n",
    "\n",
    "def getReviews(cafe_name,url):\n",
    "    import time \n",
    "    \n",
    "    # Initialize WebDriver\n",
    "    driver = webdriver.Chrome()\n",
    "\n",
    "    # Specify the name here\n",
    "    resturant_name = cafe_name\n",
    "\n",
    "    # Replace the URL here\n",
    "    url = url\n",
    "    print(url)\n",
    "    driver.get(url)\n",
    "\n",
    "    #time.sleep(5)\n",
    "    # Get the total number of reviews\n",
    "    num_reviews = driver.find_element(\"xpath\",\"//*[@id='QA0Szd']/div/div/div[1]/div[2]/div/div[1]/div/div/div[2]/div[2]/div/div[2]/div[2]\").text\n",
    "    num_reviews = int(num_reviews.split(' ')[0].replace(\",\",''))\n",
    "\n",
    "    # Click Sort button and select \"Newest\"\n",
    "    # Page Source - Inspect - Locate the button and copy XPATH\n",
    "    driver.find_element(\"xpath\",'//*[@id=\"QA0Szd\"]/div/div/div[1]/div[2]/div/div[1]/div/div/div[2]/div[7]/div[2]/button').click()\n",
    "    time.sleep(1)\n",
    "\n",
    "    driver.find_element(\"xpath\",\"//*[@id='action-menu']/div[2]\").click()\n",
    "    time.sleep(5)\n",
    "\n",
    "    # Scoll the review pages from top to bottom\n",
    "    SCROLL_PAUSE_TIME = 5\n",
    "    number = 0\n",
    "\n",
    "    while True:\n",
    "        number = number+1\n",
    "\n",
    "        # Scroll down to bottom    \n",
    "        ele = driver.find_element('xpath','//*[@id=\"QA0Szd\"]/div/div/div[1]/div[2]/div/div[1]/div/div/div[2]')\n",
    "        driver.execute_script('arguments[0].scrollBy(0, 5000);', ele)\n",
    "\n",
    "        # Wait to load page\n",
    "        time.sleep(SCROLL_PAUSE_TIME)\n",
    "\n",
    "        if number >= num_reviews/10:\n",
    "            break\n",
    "\n",
    "    # Store all reviews elements\n",
    "    item = driver.find_elements(\"xpath\",'//*[@id=\"QA0Szd\"]/div/div/div[1]/div[2]/div/div[1]/div/div/div[2]/div[9]')\n",
    "    time.sleep(3)\n",
    "\n",
    "    # Initialize dataframe for reviews\n",
    "    review_df = pd.DataFrame(index=range(1000),columns=['name','time','stars','reviews'])\n",
    "\n",
    "    idx = 0\n",
    "    for i in item:\n",
    "        button = i.find_elements(By.TAG_NAME,'button')\n",
    "        for m in button:\n",
    "            if m.text == \"More\":\n",
    "                m.click()\n",
    "        time.sleep(5)\n",
    "\n",
    "        name = i.find_elements(By.CLASS_NAME,\"d4r55\")\n",
    "        time = i.find_elements(By.CLASS_NAME,\"kvMYJc\")\n",
    "        stars = i.find_elements(By.CLASS_NAME,\"wiI7pd\")\n",
    "        reviews = i.find_elements(By.CLASS_NAME,\"rsqaWe\")\n",
    "\n",
    "        for j,k,l,p in zip(name,time,stars,reviews):\n",
    "            review_df['name'][idx] = j.text\n",
    "            review_df['time'][idx] = p.text\n",
    "            review_df['stars'][idx] = k.get_attribute(\"aria-label\")\n",
    "            review_df['reviews'][idx] = l.text\n",
    "        \n",
    "            idx = idx + 1\n",
    "    \n",
    "    review_df.to_csv('google_review_{}.csv'.format(resturant_name),index=False)\n",
    "\n",
    "\n",
    "    return review_df"
   ]
  },
  {
   "cell_type": "code",
   "execution_count": 3,
   "metadata": {},
   "outputs": [
    {
     "data": {
      "text/html": [
       "<div>\n",
       "<style scoped>\n",
       "    .dataframe tbody tr th:only-of-type {\n",
       "        vertical-align: middle;\n",
       "    }\n",
       "\n",
       "    .dataframe tbody tr th {\n",
       "        vertical-align: top;\n",
       "    }\n",
       "\n",
       "    .dataframe thead th {\n",
       "        text-align: right;\n",
       "    }\n",
       "</style>\n",
       "<table border=\"1\" class=\"dataframe\">\n",
       "  <thead>\n",
       "    <tr style=\"text-align: right;\">\n",
       "      <th></th>\n",
       "      <th>Cafe</th>\n",
       "      <th>Street</th>\n",
       "      <th>Review URL</th>\n",
       "    </tr>\n",
       "  </thead>\n",
       "  <tbody>\n",
       "    <tr>\n",
       "      <th>0</th>\n",
       "      <td>Bud's Coffee</td>\n",
       "      <td>Queen St E</td>\n",
       "      <td>https://www.google.ca/maps/place/Bud's+Coffee/...</td>\n",
       "    </tr>\n",
       "    <tr>\n",
       "      <th>1</th>\n",
       "      <td>Juice &amp; Java Cafe</td>\n",
       "      <td>Queen St E</td>\n",
       "      <td>https://www.google.ca/maps/place/Juice+%26+Jav...</td>\n",
       "    </tr>\n",
       "    <tr>\n",
       "      <th>2</th>\n",
       "      <td>The Beacher Cafe</td>\n",
       "      <td>Queen St E</td>\n",
       "      <td>https://www.google.ca/maps/place/The+Beacher+C...</td>\n",
       "    </tr>\n",
       "    <tr>\n",
       "      <th>3</th>\n",
       "      <td>Simple Coffee</td>\n",
       "      <td>Queen St E</td>\n",
       "      <td>https://www.google.ca/maps/place/Simple+Coffee...</td>\n",
       "    </tr>\n",
       "    <tr>\n",
       "      <th>4</th>\n",
       "      <td>Remarkable Beans</td>\n",
       "      <td>Queen St E</td>\n",
       "      <td>https://www.google.ca/maps/place/Remarkable+Be...</td>\n",
       "    </tr>\n",
       "  </tbody>\n",
       "</table>\n",
       "</div>"
      ],
      "text/plain": [
       "                Cafe      Street  \\\n",
       "0       Bud's Coffee  Queen St E   \n",
       "1  Juice & Java Cafe  Queen St E   \n",
       "2   The Beacher Cafe  Queen St E   \n",
       "3      Simple Coffee  Queen St E   \n",
       "4   Remarkable Beans  Queen St E   \n",
       "\n",
       "                                          Review URL  \n",
       "0  https://www.google.ca/maps/place/Bud's+Coffee/...  \n",
       "1  https://www.google.ca/maps/place/Juice+%26+Jav...  \n",
       "2  https://www.google.ca/maps/place/The+Beacher+C...  \n",
       "3  https://www.google.ca/maps/place/Simple+Coffee...  \n",
       "4  https://www.google.ca/maps/place/Remarkable+Be...  "
      ]
     },
     "execution_count": 3,
     "metadata": {},
     "output_type": "execute_result"
    }
   ],
   "source": [
    "# Read the list of cafes and their reviews URL\n",
    "urls = pd.read_excel('CafesURL.xlsx')\n",
    "urls.head()"
   ]
  },
  {
   "cell_type": "code",
   "execution_count": 6,
   "metadata": {},
   "outputs": [
    {
     "name": "stdout",
     "output_type": "stream",
     "text": [
      "https://www.google.ca/maps/place/The+Haven+Low-Carb+Cafe/@43.6731409,-79.2887343,17z/data=!4m8!3m7!1s0x89d4cfd9957d5bb3:0xe9a93bbc3145dac!8m2!3d43.6731409!4d-79.2865456!9m1!1b1!16s%2Fg%2F11qpfw2c4s\n",
      "https://www.google.ca/maps/place/Dineen+Coffee+Co./@43.6481326,-79.3816976,17z/data=!4m8!3m7!1s0x89d4cbb2049c3135:0x5392cad6809f0c78!8m2!3d43.6481326!4d-79.3795089!9m1!1b1!16s%2Fg%2F11g0gwsgvb\n",
      "https://www.google.ca/maps/place/Mos+Mos+Coffee+%26+Cookie+Shop/@43.6576435,-79.3842556,17z/data=!4m8!3m7!1s0x882b3531a916b775:0x40c1b2e3f50b4c68!8m2!3d43.6576435!4d-79.3842556!9m1!1b1!16s%2Fg%2F11h07mtbzg\n",
      "https://www.google.ca/maps/place/NEO+COFFEE+BAR/@43.6601367,-79.3880579,17z/data=!4m8!3m7!1s0x882b35ca7fa5ba63:0xd16c33763cf90df4!8m2!3d43.6601367!4d-79.3858692!9m1!1b1!16s%2Fg%2F11h_vx0h1n\n",
      "https://www.google.ca/maps/place/Coffee+Island/@43.664212,-79.3889548,17z/data=!4m8!3m7!1s0x882b34b14e1b96e5:0xe176339186f4cf1e!8m2!3d43.664212!4d-79.3867661!9m1!1b1!16s%2Fg%2F11dybbxv9c\n",
      "https://www.google.ca/maps/place/White+Rabbit+Caffe/@43.6590503,-79.3870895,17z/data=!4m8!3m7!1s0x882b353d249be5fd:0x5c6ef5f629a594fd!8m2!3d43.6590503!4d-79.3849008!9m1!1b1!16s%2Fg%2F11j4skrpjd\n",
      "https://www.google.ca/maps/place/Dispatch+Coffee/@43.6513064,-79.3842437,17z/data=!3m1!5s0x89d4cd5918436f33:0xf121c7f50cb203c0!4m8!3m7!1s0x882b355c162044e9:0x60399898cf00bcb!8m2!3d43.6513064!4d-79.382055!9m1!1b1!16s%2Fg%2F11pvbmq_hl\n"
     ]
    }
   ],
   "source": [
    "for i in range(5,len(urls)):\n",
    "    cafe_name = urls['Cafe'][i]\n",
    "    cafe_url = urls['Review URL'][i]\n",
    "\n",
    "    df = getReviews(cafe_name=cafe_name, url=cafe_url)\n",
    "    df.head()"
   ]
  },
  {
   "cell_type": "code",
   "execution_count": 28,
   "metadata": {},
   "outputs": [
    {
     "name": "stdout",
     "output_type": "stream",
     "text": [
      "Location: c:\\Users\\shans\\OneDrive\\Desktop\\GitHub\\google-resturant-reviews-analysis\\google_review_Bud's Coffee.csv\n",
      "File Name: google_review_Bud's Coffee.csv\n",
      "Location: c:\\Users\\shans\\OneDrive\\Desktop\\GitHub\\google-resturant-reviews-analysis\\google_review_Coffee Island.csv\n",
      "File Name: google_review_Coffee Island.csv\n",
      "Location: c:\\Users\\shans\\OneDrive\\Desktop\\GitHub\\google-resturant-reviews-analysis\\google_review_Dineen Coffee Co.csv\n",
      "File Name: google_review_Dineen Coffee Co.csv\n",
      "Location: c:\\Users\\shans\\OneDrive\\Desktop\\GitHub\\google-resturant-reviews-analysis\\google_review_Dispatch Coffee.csv\n",
      "File Name: google_review_Dispatch Coffee.csv\n",
      "Location: c:\\Users\\shans\\OneDrive\\Desktop\\GitHub\\google-resturant-reviews-analysis\\google_review_Juice & Java Cafe.csv\n",
      "File Name: google_review_Juice & Java Cafe.csv\n",
      "Location: c:\\Users\\shans\\OneDrive\\Desktop\\GitHub\\google-resturant-reviews-analysis\\google_review_Mos Mos Coffee.csv\n",
      "File Name: google_review_Mos Mos Coffee.csv\n",
      "Location: c:\\Users\\shans\\OneDrive\\Desktop\\GitHub\\google-resturant-reviews-analysis\\google_review_NEO COFFEE BAR.csv\n",
      "File Name: google_review_NEO COFFEE BAR.csv\n",
      "Location: c:\\Users\\shans\\OneDrive\\Desktop\\GitHub\\google-resturant-reviews-analysis\\google_review_Remarkable Beans.csv\n",
      "File Name: google_review_Remarkable Beans.csv\n",
      "Location: c:\\Users\\shans\\OneDrive\\Desktop\\GitHub\\google-resturant-reviews-analysis\\google_review_Simple Coffee.csv\n",
      "File Name: google_review_Simple Coffee.csv\n",
      "Location: c:\\Users\\shans\\OneDrive\\Desktop\\GitHub\\google-resturant-reviews-analysis\\google_review_The Beacher Cafe.csv\n",
      "File Name: google_review_The Beacher Cafe.csv\n",
      "Location: c:\\Users\\shans\\OneDrive\\Desktop\\GitHub\\google-resturant-reviews-analysis\\google_review_The Haven Low-Carb Cafe.csv\n",
      "File Name: google_review_The Haven Low-Carb Cafe.csv\n",
      "Location: c:\\Users\\shans\\OneDrive\\Desktop\\GitHub\\google-resturant-reviews-analysis\\google_review_White Rabbit Caffe.csv\n",
      "File Name: google_review_White Rabbit Caffe.csv\n"
     ]
    }
   ],
   "source": [
    "import os \n",
    "import glob\n",
    "\n",
    "path = os.getcwd()\n",
    "csv_files = glob.glob(os.path.join(path,\"*.csv\"))\n",
    "\n",
    "merged_df = pd.DataFrame()\n",
    "for f in csv_files:\n",
    "    df = pd.read_csv(f)\n",
    "    df['Cafe'] = f.split(\"\\\\\")[-1].split('_')[-1].split('.')[0]\n",
    "\n",
    "    print('Location:', f)\n",
    "    print('File Name:', f.split(\"\\\\\")[-1])\n",
    "\n",
    "    merged_df = pd.concat([merged_df,df], ignore_index=True)"
   ]
  },
  {
   "cell_type": "code",
   "execution_count": 30,
   "metadata": {},
   "outputs": [
    {
     "data": {
      "text/html": [
       "<div>\n",
       "<style scoped>\n",
       "    .dataframe tbody tr th:only-of-type {\n",
       "        vertical-align: middle;\n",
       "    }\n",
       "\n",
       "    .dataframe tbody tr th {\n",
       "        vertical-align: top;\n",
       "    }\n",
       "\n",
       "    .dataframe thead th {\n",
       "        text-align: right;\n",
       "    }\n",
       "</style>\n",
       "<table border=\"1\" class=\"dataframe\">\n",
       "  <thead>\n",
       "    <tr style=\"text-align: right;\">\n",
       "      <th></th>\n",
       "      <th>name</th>\n",
       "      <th>time</th>\n",
       "      <th>stars</th>\n",
       "      <th>reviews</th>\n",
       "      <th>Cafe</th>\n",
       "    </tr>\n",
       "  </thead>\n",
       "  <tbody>\n",
       "    <tr>\n",
       "      <th>11995</th>\n",
       "      <td>NaN</td>\n",
       "      <td>NaN</td>\n",
       "      <td>NaN</td>\n",
       "      <td>NaN</td>\n",
       "      <td>White Rabbit Caffe</td>\n",
       "    </tr>\n",
       "    <tr>\n",
       "      <th>11996</th>\n",
       "      <td>NaN</td>\n",
       "      <td>NaN</td>\n",
       "      <td>NaN</td>\n",
       "      <td>NaN</td>\n",
       "      <td>White Rabbit Caffe</td>\n",
       "    </tr>\n",
       "    <tr>\n",
       "      <th>11997</th>\n",
       "      <td>NaN</td>\n",
       "      <td>NaN</td>\n",
       "      <td>NaN</td>\n",
       "      <td>NaN</td>\n",
       "      <td>White Rabbit Caffe</td>\n",
       "    </tr>\n",
       "    <tr>\n",
       "      <th>11998</th>\n",
       "      <td>NaN</td>\n",
       "      <td>NaN</td>\n",
       "      <td>NaN</td>\n",
       "      <td>NaN</td>\n",
       "      <td>White Rabbit Caffe</td>\n",
       "    </tr>\n",
       "    <tr>\n",
       "      <th>11999</th>\n",
       "      <td>NaN</td>\n",
       "      <td>NaN</td>\n",
       "      <td>NaN</td>\n",
       "      <td>NaN</td>\n",
       "      <td>White Rabbit Caffe</td>\n",
       "    </tr>\n",
       "  </tbody>\n",
       "</table>\n",
       "</div>"
      ],
      "text/plain": [
       "      name time stars reviews                Cafe\n",
       "11995  NaN  NaN   NaN     NaN  White Rabbit Caffe\n",
       "11996  NaN  NaN   NaN     NaN  White Rabbit Caffe\n",
       "11997  NaN  NaN   NaN     NaN  White Rabbit Caffe\n",
       "11998  NaN  NaN   NaN     NaN  White Rabbit Caffe\n",
       "11999  NaN  NaN   NaN     NaN  White Rabbit Caffe"
      ]
     },
     "execution_count": 30,
     "metadata": {},
     "output_type": "execute_result"
    }
   ],
   "source": [
    "merged_df.tail()"
   ]
  },
  {
   "cell_type": "code",
   "execution_count": 26,
   "metadata": {},
   "outputs": [
    {
     "data": {
      "text/plain": [
       "(12000, 4)"
      ]
     },
     "execution_count": 26,
     "metadata": {},
     "output_type": "execute_result"
    }
   ],
   "source": [
    "merged_df.shape"
   ]
  },
  {
   "cell_type": "code",
   "execution_count": 31,
   "metadata": {},
   "outputs": [],
   "source": [
    "merged_df.to_csv('cafes_reviews.csv')"
   ]
  }
 ],
 "metadata": {
  "kernelspec": {
   "display_name": "Python 3",
   "language": "python",
   "name": "python3"
  },
  "language_info": {
   "codemirror_mode": {
    "name": "ipython",
    "version": 3
   },
   "file_extension": ".py",
   "mimetype": "text/x-python",
   "name": "python",
   "nbconvert_exporter": "python",
   "pygments_lexer": "ipython3",
   "version": "3.10.10"
  },
  "orig_nbformat": 4,
  "vscode": {
   "interpreter": {
    "hash": "eb8d3085d426e5e8dee3252ffbadecffc2a8c816985f9d79249a1de42c265c0a"
   }
  }
 },
 "nbformat": 4,
 "nbformat_minor": 2
}
